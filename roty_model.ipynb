{
 "cells": [
  {
   "cell_type": "code",
   "execution_count": 45,
   "metadata": {
    "collapsed": true
   },
   "outputs": [],
   "source": [
    "import numpy as np\n",
    "import pandas as pd\n",
    "import matplotlib.pyplot as plt\n",
    "from sklearn.externals import joblib"
   ]
  },
  {
   "cell_type": "code",
   "execution_count": 3,
   "metadata": {
    "collapsed": true
   },
   "outputs": [],
   "source": [
    "rookie_df = pd.read_csv('roty_voting_data.csv')"
   ]
  },
  {
   "cell_type": "code",
   "execution_count": 4,
   "metadata": {},
   "outputs": [
    {
     "data": {
      "text/html": [
       "<div>\n",
       "<style scoped>\n",
       "    .dataframe tbody tr th:only-of-type {\n",
       "        vertical-align: middle;\n",
       "    }\n",
       "\n",
       "    .dataframe tbody tr th {\n",
       "        vertical-align: top;\n",
       "    }\n",
       "\n",
       "    .dataframe thead th {\n",
       "        text-align: right;\n",
       "    }\n",
       "</style>\n",
       "<table border=\"1\" class=\"dataframe\">\n",
       "  <thead>\n",
       "    <tr style=\"text-align: right;\">\n",
       "      <th></th>\n",
       "      <th>age</th>\n",
       "      <th>ast_per_g</th>\n",
       "      <th>award_share</th>\n",
       "      <th>blk_per_g</th>\n",
       "      <th>fg3_pct</th>\n",
       "      <th>fg_pct</th>\n",
       "      <th>ft_pct</th>\n",
       "      <th>g</th>\n",
       "      <th>link</th>\n",
       "      <th>mp_per_g</th>\n",
       "      <th>...</th>\n",
       "      <th>points_max</th>\n",
       "      <th>points_won</th>\n",
       "      <th>pts_per_g</th>\n",
       "      <th>season</th>\n",
       "      <th>stl_per_g</th>\n",
       "      <th>team_id</th>\n",
       "      <th>trb_per_g</th>\n",
       "      <th>votes_first</th>\n",
       "      <th>ws</th>\n",
       "      <th>ws_per_48</th>\n",
       "    </tr>\n",
       "  </thead>\n",
       "  <tbody>\n",
       "    <tr>\n",
       "      <th>0</th>\n",
       "      <td>23</td>\n",
       "      <td>4.5</td>\n",
       "      <td>0.955</td>\n",
       "      <td>0.6</td>\n",
       "      <td>0.406</td>\n",
       "      <td>0.474</td>\n",
       "      <td>0.836</td>\n",
       "      <td>82</td>\n",
       "      <td>/players/b/birdla01.html</td>\n",
       "      <td>36.0</td>\n",
       "      <td>...</td>\n",
       "      <td>66</td>\n",
       "      <td>63.0</td>\n",
       "      <td>21.3</td>\n",
       "      <td>1979-1980</td>\n",
       "      <td>1.7</td>\n",
       "      <td>BOS</td>\n",
       "      <td>10.4</td>\n",
       "      <td>63.0</td>\n",
       "      <td>11.2</td>\n",
       "      <td>0.182</td>\n",
       "    </tr>\n",
       "    <tr>\n",
       "      <th>1</th>\n",
       "      <td>20</td>\n",
       "      <td>7.3</td>\n",
       "      <td>0.045</td>\n",
       "      <td>0.5</td>\n",
       "      <td>0.226</td>\n",
       "      <td>0.530</td>\n",
       "      <td>0.810</td>\n",
       "      <td>77</td>\n",
       "      <td>/players/j/johnsma02.html</td>\n",
       "      <td>36.3</td>\n",
       "      <td>...</td>\n",
       "      <td>66</td>\n",
       "      <td>3.0</td>\n",
       "      <td>18.0</td>\n",
       "      <td>1979-1980</td>\n",
       "      <td>2.4</td>\n",
       "      <td>LAL</td>\n",
       "      <td>7.7</td>\n",
       "      <td>3.0</td>\n",
       "      <td>10.5</td>\n",
       "      <td>0.180</td>\n",
       "    </tr>\n",
       "    <tr>\n",
       "      <th>2</th>\n",
       "      <td>22</td>\n",
       "      <td>2.4</td>\n",
       "      <td>0.275</td>\n",
       "      <td>0.5</td>\n",
       "      <td>0.192</td>\n",
       "      <td>0.464</td>\n",
       "      <td>0.716</td>\n",
       "      <td>81</td>\n",
       "      <td>/players/g/griffda01.html</td>\n",
       "      <td>35.4</td>\n",
       "      <td>...</td>\n",
       "      <td>69</td>\n",
       "      <td>19.0</td>\n",
       "      <td>20.6</td>\n",
       "      <td>1980-1981</td>\n",
       "      <td>1.3</td>\n",
       "      <td>UTA</td>\n",
       "      <td>3.6</td>\n",
       "      <td>19.0</td>\n",
       "      <td>0.4</td>\n",
       "      <td>0.006</td>\n",
       "    </tr>\n",
       "    <tr>\n",
       "      <th>3</th>\n",
       "      <td>22</td>\n",
       "      <td>6.9</td>\n",
       "      <td>0.261</td>\n",
       "      <td>0.1</td>\n",
       "      <td>0.097</td>\n",
       "      <td>0.452</td>\n",
       "      <td>0.749</td>\n",
       "      <td>80</td>\n",
       "      <td>/players/r/ranseke01.html</td>\n",
       "      <td>30.4</td>\n",
       "      <td>...</td>\n",
       "      <td>69</td>\n",
       "      <td>18.0</td>\n",
       "      <td>15.2</td>\n",
       "      <td>1980-1981</td>\n",
       "      <td>1.1</td>\n",
       "      <td>POR</td>\n",
       "      <td>2.4</td>\n",
       "      <td>18.0</td>\n",
       "      <td>2.8</td>\n",
       "      <td>0.056</td>\n",
       "    </tr>\n",
       "    <tr>\n",
       "      <th>4</th>\n",
       "      <td>23</td>\n",
       "      <td>1.1</td>\n",
       "      <td>0.203</td>\n",
       "      <td>0.8</td>\n",
       "      <td>NaN</td>\n",
       "      <td>0.512</td>\n",
       "      <td>0.588</td>\n",
       "      <td>82</td>\n",
       "      <td>/players/s/smithla01.html</td>\n",
       "      <td>31.4</td>\n",
       "      <td>...</td>\n",
       "      <td>69</td>\n",
       "      <td>14.0</td>\n",
       "      <td>9.6</td>\n",
       "      <td>1980-1981</td>\n",
       "      <td>0.9</td>\n",
       "      <td>GSW</td>\n",
       "      <td>12.1</td>\n",
       "      <td>14.0</td>\n",
       "      <td>6.1</td>\n",
       "      <td>0.113</td>\n",
       "    </tr>\n",
       "  </tbody>\n",
       "</table>\n",
       "<p>5 rows × 21 columns</p>\n",
       "</div>"
      ],
      "text/plain": [
       "   age  ast_per_g  award_share  blk_per_g  fg3_pct  fg_pct  ft_pct   g  \\\n",
       "0   23        4.5        0.955        0.6    0.406   0.474   0.836  82   \n",
       "1   20        7.3        0.045        0.5    0.226   0.530   0.810  77   \n",
       "2   22        2.4        0.275        0.5    0.192   0.464   0.716  81   \n",
       "3   22        6.9        0.261        0.1    0.097   0.452   0.749  80   \n",
       "4   23        1.1        0.203        0.8      NaN   0.512   0.588  82   \n",
       "\n",
       "                        link  mp_per_g    ...     points_max  points_won  \\\n",
       "0   /players/b/birdla01.html      36.0    ...             66        63.0   \n",
       "1  /players/j/johnsma02.html      36.3    ...             66         3.0   \n",
       "2  /players/g/griffda01.html      35.4    ...             69        19.0   \n",
       "3  /players/r/ranseke01.html      30.4    ...             69        18.0   \n",
       "4  /players/s/smithla01.html      31.4    ...             69        14.0   \n",
       "\n",
       "   pts_per_g     season stl_per_g  team_id trb_per_g  votes_first    ws  \\\n",
       "0       21.3  1979-1980       1.7      BOS      10.4         63.0  11.2   \n",
       "1       18.0  1979-1980       2.4      LAL       7.7          3.0  10.5   \n",
       "2       20.6  1980-1981       1.3      UTA       3.6         19.0   0.4   \n",
       "3       15.2  1980-1981       1.1      POR       2.4         18.0   2.8   \n",
       "4        9.6  1980-1981       0.9      GSW      12.1         14.0   6.1   \n",
       "\n",
       "   ws_per_48  \n",
       "0      0.182  \n",
       "1      0.180  \n",
       "2      0.006  \n",
       "3      0.056  \n",
       "4      0.113  \n",
       "\n",
       "[5 rows x 21 columns]"
      ]
     },
     "execution_count": 4,
     "metadata": {},
     "output_type": "execute_result"
    }
   ],
   "source": [
    "rookie_df.head()"
   ]
  },
  {
   "cell_type": "code",
   "execution_count": 5,
   "metadata": {},
   "outputs": [
    {
     "data": {
      "image/png": "[encoded data removed]",
      "text/plain": [
       "<Figure size 432x288 with 1 Axes>"
      ]
     },
     "metadata": {},
     "output_type": "display_data"
    }
   ],
   "source": [
    "x = rookie_df['award_share']\n",
    "x.hist(bins=10)\n",
    "plt.show()"
   ]
  },
  {
   "cell_type": "markdown",
   "metadata": {},
   "source": [
    "Most of the players in the dataset did not win the award. "
   ]
  },
  {
   "cell_type": "code",
   "execution_count": 6,
   "metadata": {
    "collapsed": true
   },
   "outputs": [],
   "source": [
    "features = ['ast_per_g','blk_per_g', 'fg3_pct', 'fg_pct', 'mp_per_g', 'pts_per_g','stl_per_g',\n",
    "           'ws','ws_per_48']"
   ]
  },
  {
   "cell_type": "code",
   "execution_count": 7,
   "metadata": {},
   "outputs": [
    {
     "data": {
      "text/plain": [
       "award_share    1.000000\n",
       "pts_per_g      0.597627\n",
       "mp_per_g       0.511728\n",
       "ws             0.488326\n",
       "ast_per_g      0.349897\n",
       "ws_per_48      0.245834\n",
       "stl_per_g      0.243657\n",
       "blk_per_g      0.177289\n",
       "fg_pct         0.049712\n",
       "fg3_pct       -0.073358\n",
       "Name: award_share, dtype: float64"
      ]
     },
     "execution_count": 7,
     "metadata": {},
     "output_type": "execute_result"
    }
   ],
   "source": [
    "corr_matrix = rookie_df[features + ['award_share']].corr()\n",
    "corr_matrix['award_share'].sort_values(ascending=False)"
   ]
  },
  {
   "cell_type": "code",
   "execution_count": 8,
   "metadata": {
    "collapsed": true
   },
   "outputs": [],
   "source": [
    "import seaborn as sns"
   ]
  },
  {
   "cell_type": "code",
   "execution_count": 9,
   "metadata": {
    "collapsed": true
   },
   "outputs": [],
   "source": [
    "fig = plt.figure(figsize=(14, 14))\n",
    "\n",
    "fig.set_facecolor('white')\n",
    "\n",
    "data = rookie_df[features + ['award_share']]\n",
    "\n",
    "sns.heatmap(data.corr(), annot=True, cmap=\"RdYlGn\")\n",
    "_ = plt.yticks(rotation='horizontal')"
   ]
  },
  {
   "cell_type": "code",
   "execution_count": 10,
   "metadata": {},
   "outputs": [
    {
     "data": {
      "image/png": "[encoded data removed]",
      "text/plain": [
       "<Figure size 1008x1008 with 2 Axes>"
      ]
     },
     "metadata": {},
     "output_type": "display_data"
    }
   ],
   "source": [
    "plt.show()"
   ]
  },
  {
   "cell_type": "code",
   "execution_count": 11,
   "metadata": {},
   "outputs": [
    {
     "data": {
      "text/plain": [
       "array(['1979-1980', '1980-1981', '1981-1982', '1982-1983', '1983-1984',\n",
       "       '1984-1985', '1985-1986', '1986-1987', '1987-1988', '1988-1989',\n",
       "       '1989-1990', '1990-1991', '1991-1992', '1992-1993', '1993-1994',\n",
       "       '1994-1995', '1995-1996', '1996-1997', '1997-1998', '1998-1999',\n",
       "       '1999-2000', '2000-2001', '2001-2002', '2002-2003', '2003-2004',\n",
       "       '2004-2005', '2005-2006', '2006-2007', '2007-2008', '2008-2009',\n",
       "       '2009-2010', '2010-2011', '2011-2012', '2012-2013', '2013-2014',\n",
       "       '2014-2015', '2015-2016', '2016-2017', '2017-2018', '2018-2019'],\n",
       "      dtype=object)"
      ]
     },
     "execution_count": 11,
     "metadata": {},
     "output_type": "execute_result"
    }
   ],
   "source": [
    "rookie_df.season.unique()"
   ]
  },
  {
   "cell_type": "code",
   "execution_count": 12,
   "metadata": {
    "collapsed": true
   },
   "outputs": [],
   "source": [
    "data = data.fillna(0)"
   ]
  },
  {
   "cell_type": "code",
   "execution_count": 13,
   "metadata": {
    "collapsed": true
   },
   "outputs": [],
   "source": [
    "from sklearn.preprocessing import StandardScaler"
   ]
  },
  {
   "cell_type": "code",
   "execution_count": 14,
   "metadata": {
    "collapsed": true
   },
   "outputs": [],
   "source": [
    "scaler = StandardScaler().fit(data.values)\n",
    "transformed = scaler.transform(data.values)"
   ]
  },
  {
   "cell_type": "code",
   "execution_count": 15,
   "metadata": {
    "collapsed": true
   },
   "outputs": [],
   "source": [
    "rookie_df[features + ['award_share']] = transformed"
   ]
  },
  {
   "cell_type": "code",
   "execution_count": 16,
   "metadata": {},
   "outputs": [
    {
     "data": {
      "text/html": [
       "<div>\n",
       "<style scoped>\n",
       "    .dataframe tbody tr th:only-of-type {\n",
       "        vertical-align: middle;\n",
       "    }\n",
       "\n",
       "    .dataframe tbody tr th {\n",
       "        vertical-align: top;\n",
       "    }\n",
       "\n",
       "    .dataframe thead th {\n",
       "        text-align: right;\n",
       "    }\n",
       "</style>\n",
       "<table border=\"1\" class=\"dataframe\">\n",
       "  <thead>\n",
       "    <tr style=\"text-align: right;\">\n",
       "      <th></th>\n",
       "      <th>age</th>\n",
       "      <th>ast_per_g</th>\n",
       "      <th>award_share</th>\n",
       "      <th>blk_per_g</th>\n",
       "      <th>fg3_pct</th>\n",
       "      <th>fg_pct</th>\n",
       "      <th>ft_pct</th>\n",
       "      <th>g</th>\n",
       "      <th>link</th>\n",
       "      <th>mp_per_g</th>\n",
       "      <th>...</th>\n",
       "      <th>points_max</th>\n",
       "      <th>points_won</th>\n",
       "      <th>pts_per_g</th>\n",
       "      <th>season</th>\n",
       "      <th>stl_per_g</th>\n",
       "      <th>team_id</th>\n",
       "      <th>trb_per_g</th>\n",
       "      <th>votes_first</th>\n",
       "      <th>ws</th>\n",
       "      <th>ws_per_48</th>\n",
       "    </tr>\n",
       "  </thead>\n",
       "  <tbody>\n",
       "    <tr>\n",
       "      <th>0</th>\n",
       "      <td>23</td>\n",
       "      <td>0.797897</td>\n",
       "      <td>2.240994</td>\n",
       "      <td>-0.177296</td>\n",
       "      <td>0.999083</td>\n",
       "      <td>0.179419</td>\n",
       "      <td>0.836</td>\n",
       "      <td>82</td>\n",
       "      <td>/players/b/birdla01.html</td>\n",
       "      <td>1.062061</td>\n",
       "      <td>...</td>\n",
       "      <td>66</td>\n",
       "      <td>63.0</td>\n",
       "      <td>1.662264</td>\n",
       "      <td>1979-1980</td>\n",
       "      <td>1.426857</td>\n",
       "      <td>BOS</td>\n",
       "      <td>10.4</td>\n",
       "      <td>63.0</td>\n",
       "      <td>2.711976</td>\n",
       "      <td>1.758156</td>\n",
       "    </tr>\n",
       "    <tr>\n",
       "      <th>1</th>\n",
       "      <td>20</td>\n",
       "      <td>2.145661</td>\n",
       "      <td>-0.586760</td>\n",
       "      <td>-0.310852</td>\n",
       "      <td>-0.195851</td>\n",
       "      <td>1.226696</td>\n",
       "      <td>0.810</td>\n",
       "      <td>77</td>\n",
       "      <td>/players/j/johnsma02.html</td>\n",
       "      <td>1.108977</td>\n",
       "      <td>...</td>\n",
       "      <td>66</td>\n",
       "      <td>3.0</td>\n",
       "      <td>0.971034</td>\n",
       "      <td>1979-1980</td>\n",
       "      <td>2.904410</td>\n",
       "      <td>LAL</td>\n",
       "      <td>7.7</td>\n",
       "      <td>3.0</td>\n",
       "      <td>2.443773</td>\n",
       "      <td>1.719275</td>\n",
       "    </tr>\n",
       "    <tr>\n",
       "      <th>2</th>\n",
       "      <td>22</td>\n",
       "      <td>-0.212927</td>\n",
       "      <td>0.127947</td>\n",
       "      <td>-0.310852</td>\n",
       "      <td>-0.421561</td>\n",
       "      <td>-0.007595</td>\n",
       "      <td>0.716</td>\n",
       "      <td>81</td>\n",
       "      <td>/players/g/griffda01.html</td>\n",
       "      <td>0.968229</td>\n",
       "      <td>...</td>\n",
       "      <td>69</td>\n",
       "      <td>19.0</td>\n",
       "      <td>1.515639</td>\n",
       "      <td>1980-1981</td>\n",
       "      <td>0.582541</td>\n",
       "      <td>UTA</td>\n",
       "      <td>3.6</td>\n",
       "      <td>19.0</td>\n",
       "      <td>-1.426008</td>\n",
       "      <td>-1.663414</td>\n",
       "    </tr>\n",
       "    <tr>\n",
       "      <th>3</th>\n",
       "      <td>22</td>\n",
       "      <td>1.953123</td>\n",
       "      <td>0.084443</td>\n",
       "      <td>-0.845074</td>\n",
       "      <td>-1.052220</td>\n",
       "      <td>-0.232011</td>\n",
       "      <td>0.749</td>\n",
       "      <td>80</td>\n",
       "      <td>/players/r/ranseke01.html</td>\n",
       "      <td>0.186298</td>\n",
       "      <td>...</td>\n",
       "      <td>69</td>\n",
       "      <td>18.0</td>\n",
       "      <td>0.384535</td>\n",
       "      <td>1980-1981</td>\n",
       "      <td>0.160383</td>\n",
       "      <td>POR</td>\n",
       "      <td>2.4</td>\n",
       "      <td>18.0</td>\n",
       "      <td>-0.506456</td>\n",
       "      <td>-0.691377</td>\n",
       "    </tr>\n",
       "    <tr>\n",
       "      <th>4</th>\n",
       "      <td>23</td>\n",
       "      <td>-0.838674</td>\n",
       "      <td>-0.095787</td>\n",
       "      <td>0.089815</td>\n",
       "      <td>-1.696157</td>\n",
       "      <td>0.890071</td>\n",
       "      <td>0.588</td>\n",
       "      <td>82</td>\n",
       "      <td>/players/s/smithla01.html</td>\n",
       "      <td>0.342684</td>\n",
       "      <td>...</td>\n",
       "      <td>69</td>\n",
       "      <td>14.0</td>\n",
       "      <td>-0.788462</td>\n",
       "      <td>1980-1981</td>\n",
       "      <td>-0.261775</td>\n",
       "      <td>GSW</td>\n",
       "      <td>12.1</td>\n",
       "      <td>14.0</td>\n",
       "      <td>0.757928</td>\n",
       "      <td>0.416745</td>\n",
       "    </tr>\n",
       "  </tbody>\n",
       "</table>\n",
       "<p>5 rows × 21 columns</p>\n",
       "</div>"
      ],
      "text/plain": [
       "   age  ast_per_g  award_share  blk_per_g   fg3_pct    fg_pct  ft_pct   g  \\\n",
       "0   23   0.797897     2.240994  -0.177296  0.999083  0.179419   0.836  82   \n",
       "1   20   2.145661    -0.586760  -0.310852 -0.195851  1.226696   0.810  77   \n",
       "2   22  -0.212927     0.127947  -0.310852 -0.421561 -0.007595   0.716  81   \n",
       "3   22   1.953123     0.084443  -0.845074 -1.052220 -0.232011   0.749  80   \n",
       "4   23  -0.838674    -0.095787   0.089815 -1.696157  0.890071   0.588  82   \n",
       "\n",
       "                        link  mp_per_g    ...     points_max  points_won  \\\n",
       "0   /players/b/birdla01.html  1.062061    ...             66        63.0   \n",
       "1  /players/j/johnsma02.html  1.108977    ...             66         3.0   \n",
       "2  /players/g/griffda01.html  0.968229    ...             69        19.0   \n",
       "3  /players/r/ranseke01.html  0.186298    ...             69        18.0   \n",
       "4  /players/s/smithla01.html  0.342684    ...             69        14.0   \n",
       "\n",
       "   pts_per_g     season stl_per_g  team_id trb_per_g  votes_first        ws  \\\n",
       "0   1.662264  1979-1980  1.426857      BOS      10.4         63.0  2.711976   \n",
       "1   0.971034  1979-1980  2.904410      LAL       7.7          3.0  2.443773   \n",
       "2   1.515639  1980-1981  0.582541      UTA       3.6         19.0 -1.426008   \n",
       "3   0.384535  1980-1981  0.160383      POR       2.4         18.0 -0.506456   \n",
       "4  -0.788462  1980-1981 -0.261775      GSW      12.1         14.0  0.757928   \n",
       "\n",
       "   ws_per_48  \n",
       "0   1.758156  \n",
       "1   1.719275  \n",
       "2  -1.663414  \n",
       "3  -0.691377  \n",
       "4   0.416745  \n",
       "\n",
       "[5 rows x 21 columns]"
      ]
     },
     "execution_count": 16,
     "metadata": {},
     "output_type": "execute_result"
    }
   ],
   "source": [
    "rookie_df.head()\n"
   ]
  },
  {
   "cell_type": "markdown",
   "metadata": {},
   "source": [
    "Creating Linear Regression model "
   ]
  },
  {
   "cell_type": "code",
   "execution_count": 17,
   "metadata": {
    "collapsed": true
   },
   "outputs": [],
   "source": [
    "from sklearn.linear_model import LinearRegression"
   ]
  },
  {
   "cell_type": "code",
   "execution_count": 18,
   "metadata": {
    "collapsed": true
   },
   "outputs": [],
   "source": [
    "train_data = rookie_df.loc[rookie_df.season != \"2018-2019\"]\n",
    "validation_data = rookie_df.loc[rookie_df.season == \"2018-2019\"]\n",
    "validation_data = validation_data.sort_values(by='award_share', ascending=False)"
   ]
  },
  {
   "cell_type": "code",
   "execution_count": 19,
   "metadata": {},
   "outputs": [
    {
     "data": {
      "text/plain": [
       "220                Luka Dončić\n",
       "221                 Trae Young\n",
       "222              Deandre Ayton\n",
       "223              Jaren Jackson\n",
       "224              Collin Sexton\n",
       "225    Shai Gilgeous-Alexander\n",
       "226              Marvin Bagley\n",
       "227                Josh Okogie\n",
       "228          Mitchell Robinson\n",
       "Name: player, dtype: object"
      ]
     },
     "execution_count": 19,
     "metadata": {},
     "output_type": "execute_result"
    }
   ],
   "source": [
    "validation_data['player']"
   ]
  },
  {
   "cell_type": "code",
   "execution_count": 20,
   "metadata": {
    "collapsed": true
   },
   "outputs": [],
   "source": [
    "train_x = train_data[features]\n",
    "train_y = train_data['award_share']"
   ]
  },
  {
   "cell_type": "code",
   "execution_count": 21,
   "metadata": {
    "collapsed": true
   },
   "outputs": [],
   "source": [
    "val_x = validation_data[features]\n",
    "val_y = validation_data['award_share']"
   ]
  },
  {
   "cell_type": "code",
   "execution_count": 22,
   "metadata": {
    "collapsed": true
   },
   "outputs": [],
   "source": [
    "from sklearn.utils import shuffle\n",
    "shuffle_x, shuffle_y = shuffle(train_x,train_y)"
   ]
  },
  {
   "cell_type": "code",
   "execution_count": 23,
   "metadata": {},
   "outputs": [
    {
     "data": {
      "text/plain": [
       "LinearRegression(copy_X=True, fit_intercept=True, n_jobs=1, normalize=False)"
      ]
     },
     "execution_count": 23,
     "metadata": {},
     "output_type": "execute_result"
    }
   ],
   "source": [
    "lr = LinearRegression()\n",
    "lr.fit(shuffle_x,shuffle_y)"
   ]
  },
  {
   "cell_type": "code",
   "execution_count": 24,
   "metadata": {
    "collapsed": true
   },
   "outputs": [],
   "source": [
    "predict_y = lr.predict(val_x)"
   ]
  },
  {
   "cell_type": "code",
   "execution_count": 25,
   "metadata": {
    "collapsed": true
   },
   "outputs": [],
   "source": [
    "sorted_indices = np.argsort(predict_y)[::-1]\n",
    "correct_indices = np.arange(len(val_y))\n",
    "\n",
    "accuracy = np.sum(sorted_indices[:5] == correct_indices[:5]) / len(correct_indices[:5])"
   ]
  },
  {
   "cell_type": "code",
   "execution_count": 26,
   "metadata": {},
   "outputs": [
    {
     "data": {
      "text/plain": [
       "0.8"
      ]
     },
     "execution_count": 26,
     "metadata": {},
     "output_type": "execute_result"
    }
   ],
   "source": [
    "accuracy"
   ]
  },
  {
   "cell_type": "code",
   "execution_count": 27,
   "metadata": {
    "collapsed": true
   },
   "outputs": [],
   "source": [
    "predictions = predict_y[sorted_indices]"
   ]
  },
  {
   "cell_type": "code",
   "execution_count": 28,
   "metadata": {},
   "outputs": [
    {
     "data": {
      "text/plain": [
       "array([0, 1, 2, 6, 4, 3, 5, 8, 7], dtype=int64)"
      ]
     },
     "execution_count": 28,
     "metadata": {},
     "output_type": "execute_result"
    }
   ],
   "source": [
    "sorted_indices"
   ]
  },
  {
   "cell_type": "code",
   "execution_count": 29,
   "metadata": {},
   "outputs": [
    {
     "data": {
      "text/plain": [
       "array([ 1.3172266 ,  1.31425272,  0.14602597,  0.0250225 , -0.16901092,\n",
       "       -0.26946556, -0.39346203, -0.71086336, -1.12134063])"
      ]
     },
     "execution_count": 29,
     "metadata": {},
     "output_type": "execute_result"
    }
   ],
   "source": [
    "predictions"
   ]
  },
  {
   "cell_type": "code",
   "execution_count": 30,
   "metadata": {},
   "outputs": [
    {
     "name": "stdout",
     "output_type": "stream",
     "text": [
      "My Linear Regression Predictions: \n",
      "1. Luka Dončić: 1.3172266023678776\n",
      "2. Trae Young: 1.3142527154987045\n",
      "3. Deandre Ayton: 0.14602597025557554\n",
      "4. Marvin Bagley: 0.02502250371378927\n",
      "5. Collin Sexton: -0.16901091988033648\n",
      "6. Jaren Jackson: -0.26946555937733496\n",
      "7. Shai Gilgeous-Alexander: -0.3934620293301084\n",
      "8. Mitchell Robinson: -0.7108633552309146\n",
      "9. Josh Okogie: -1.1213406343840322\n"
     ]
    }
   ],
   "source": [
    "print(\"My Linear Regression Predictions: \")\n",
    "for i in range(len(validation_data)):\n",
    "    print(f\"{i+1}. {validation_data.iloc[sorted_indices[i]].player}: {predictions[i]}\")"
   ]
  },
  {
   "cell_type": "markdown",
   "metadata": {},
   "source": [
    "Actually order below"
   ]
  },
  {
   "cell_type": "code",
   "execution_count": 31,
   "metadata": {},
   "outputs": [
    {
     "data": {
      "text/plain": [
       "220                Luka Dončić\n",
       "221                 Trae Young\n",
       "222              Deandre Ayton\n",
       "223              Jaren Jackson\n",
       "224              Collin Sexton\n",
       "225    Shai Gilgeous-Alexander\n",
       "226              Marvin Bagley\n",
       "227                Josh Okogie\n",
       "228          Mitchell Robinson\n",
       "Name: player, dtype: object"
      ]
     },
     "execution_count": 31,
     "metadata": {},
     "output_type": "execute_result"
    }
   ],
   "source": [
    "validation_data['player']"
   ]
  },
  {
   "cell_type": "markdown",
   "metadata": {},
   "source": [
    "Top 3 players were predicted correctly with the rest of the order being mixed. However, this model was able to predict that Luka Doncic would go on to win the rookie of the year title which was correct!"
   ]
  },
  {
   "cell_type": "code",
   "execution_count": 32,
   "metadata": {},
   "outputs": [
    {
     "name": "stderr",
     "output_type": "stream",
     "text": [
      "C:\\Users\\Michael\\Anaconda3\\lib\\site-packages\\sklearn\\linear_model\\stochastic_gradient.py:128: FutureWarning: max_iter and tol parameters have been added in <class 'sklearn.linear_model.stochastic_gradient.SGDRegressor'> in 0.19. If both are left unset, they default to max_iter=5 and tol=None. If tol is not None, max_iter defaults to max_iter=1000. From 0.21, default max_iter will be 1000, and default tol will be 1e-3.\n",
      "  \"and default tol will be 1e-3.\" % type(self), FutureWarning)\n"
     ]
    },
    {
     "data": {
      "text/plain": [
       "SGDRegressor(alpha=0.0001, average=False, epsilon=0.1, eta0=0.01,\n",
       "       fit_intercept=True, l1_ratio=0.15, learning_rate='invscaling',\n",
       "       loss='squared_loss', max_iter=None, n_iter=None, penalty=None,\n",
       "       power_t=0.25, random_state=None, shuffle=True, tol=None, verbose=0,\n",
       "       warm_start=False)"
      ]
     },
     "execution_count": 32,
     "metadata": {},
     "output_type": "execute_result"
    }
   ],
   "source": [
    "from sklearn.linear_model import SGDRegressor\n",
    "#[0.1, 0.01, 0.001, 0.0001]\n",
    "sgd_reg = SGDRegressor(penalty=None,eta0=0.01)\n",
    "sgd_reg.fit(shuffle_x,shuffle_y)"
   ]
  },
  {
   "cell_type": "code",
   "execution_count": 33,
   "metadata": {
    "collapsed": true
   },
   "outputs": [],
   "source": [
    "sgd_reg_predict_y = sgd_reg.predict(val_x)"
   ]
  },
  {
   "cell_type": "code",
   "execution_count": 34,
   "metadata": {
    "collapsed": true
   },
   "outputs": [],
   "source": [
    "sorted_indices = np.argsort(sgd_reg_predict_y)[::-1]\n",
    "correct_indices = np.arange(len(val_y))\n",
    "\n",
    "accuracy = np.sum(sorted_indices[:5] == correct_indices[:5]) / len(correct_indices[:5])"
   ]
  },
  {
   "cell_type": "code",
   "execution_count": 35,
   "metadata": {},
   "outputs": [
    {
     "name": "stdout",
     "output_type": "stream",
     "text": [
      "0.6000\n"
     ]
    }
   ],
   "source": [
    "print(f'{accuracy:.4f}')"
   ]
  },
  {
   "cell_type": "code",
   "execution_count": 36,
   "metadata": {
    "collapsed": true
   },
   "outputs": [],
   "source": [
    "sgd_predictions = sgd_reg_predict_y[sorted_indices]"
   ]
  },
  {
   "cell_type": "code",
   "execution_count": 37,
   "metadata": {},
   "outputs": [
    {
     "name": "stdout",
     "output_type": "stream",
     "text": [
      "My Gradient Decent Regressor Predictions: \n",
      "1. Luka Dončić: 0.9183083700726441\n",
      "2. Trae Young: 0.7618129868384403\n",
      "3. Deandre Ayton: 0.2435322063270552\n",
      "4. Marvin Bagley: -0.04525399069480741\n",
      "5. Jaren Jackson: -0.16701406265629157\n",
      "6. Collin Sexton: -0.22885821754067284\n",
      "7. Shai Gilgeous-Alexander: -0.32936699945218384\n",
      "8. Mitchell Robinson: -0.39110428602672676\n",
      "9. Josh Okogie: -0.9793383417950914\n"
     ]
    }
   ],
   "source": [
    "sgd_predictions = sgd_reg_predict_y[sorted_indices]\n",
    "print(\"My Gradient Decent Regressor Predictions: \")\n",
    "for i in range(len(validation_data)):\n",
    "    print(f\"{i+1}. {validation_data.iloc[sorted_indices[i]].player}: {sgd_predictions[i]}\")"
   ]
  },
  {
   "cell_type": "code",
   "execution_count": 38,
   "metadata": {},
   "outputs": [
    {
     "data": {
      "text/plain": [
       "Ridge(alpha=10, copy_X=True, fit_intercept=True, max_iter=None,\n",
       "   normalize=False, random_state=None, solver='cholesky', tol=0.001)"
      ]
     },
     "execution_count": 38,
     "metadata": {},
     "output_type": "execute_result"
    }
   ],
   "source": [
    "from sklearn.linear_model import Ridge\n",
    "ridge_reg = Ridge(alpha = 10, solver='cholesky')\n",
    "ridge_reg.fit(shuffle_x,shuffle_y)"
   ]
  },
  {
   "cell_type": "code",
   "execution_count": 39,
   "metadata": {
    "collapsed": true
   },
   "outputs": [],
   "source": [
    "ridge_reg_predict_y = ridge_reg.predict(val_x)\n",
    "sorted_indices = np.argsort(ridge_reg_predict_y)[::-1]\n",
    "correct_indices = np.arange(len(val_y))\n",
    "\n",
    "accuracy = np.sum(sorted_indices[:5] == correct_indices[:5]) / len(correct_indices[:5])"
   ]
  },
  {
   "cell_type": "code",
   "execution_count": 40,
   "metadata": {},
   "outputs": [
    {
     "name": "stdout",
     "output_type": "stream",
     "text": [
      "0.8000\n"
     ]
    }
   ],
   "source": [
    "print(f'{accuracy:.4f}')"
   ]
  },
  {
   "cell_type": "code",
   "execution_count": 41,
   "metadata": {
    "collapsed": true
   },
   "outputs": [],
   "source": [
    "ridge_predictions = ridge_reg_predict_y[sorted_indices]"
   ]
  },
  {
   "cell_type": "code",
   "execution_count": 42,
   "metadata": {},
   "outputs": [
    {
     "name": "stdout",
     "output_type": "stream",
     "text": [
      "My Ridge Regression Predictions: \n",
      "1. Luka Dončić: 1.1846871382320967\n",
      "2. Trae Young: 1.1415331373365267\n",
      "3. Deandre Ayton: 0.17050939331969986\n",
      "4. Marvin Bagley: 0.004948233744098831\n",
      "5. Collin Sexton: -0.17620085922724377\n",
      "6. Jaren Jackson: -0.23872805728516275\n",
      "7. Shai Gilgeous-Alexander: -0.37628186326949215\n",
      "8. Mitchell Robinson: -0.6002414286025302\n",
      "9. Josh Okogie: -1.0760855336175512\n"
     ]
    }
   ],
   "source": [
    "ridge_predictions = ridge_reg_predict_y[sorted_indices]\n",
    "print(\"My Ridge Regression Predictions: \")\n",
    "for i in range(len(validation_data)):\n",
    "    print(f\"{i+1}. {validation_data.iloc[sorted_indices[i]].player}: {ridge_predictions[i]}\")"
   ]
  },
  {
   "cell_type": "code",
   "execution_count": 43,
   "metadata": {},
   "outputs": [
    {
     "name": "stdout",
     "output_type": "stream",
     "text": [
      "0.8000\n",
      "My Lasso Regression Predictions: \n",
      "1. Luka Dončić: 0.7898419783243934\n",
      "2. Trae Young: 0.5727314421130184\n",
      "3. Deandre Ayton: 0.33379245356791054\n",
      "4. Marvin Bagley: -0.0007620002704199231\n",
      "5. Jaren Jackson: -0.10633815435574598\n",
      "6. Collin Sexton: -0.16181020154060957\n",
      "7. Shai Gilgeous-Alexander: -0.24364823485794943\n",
      "8. Mitchell Robinson: -0.36397373846007647\n",
      "9. Josh Okogie: -0.7491520454592147\n"
     ]
    }
   ],
   "source": [
    "from sklearn.linear_model import Lasso\n",
    "\n",
    "lasso_reg = Lasso(alpha=0.1)\n",
    "lasso_reg.fit(shuffle_x,shuffle_y)\n",
    "lasso_reg_predict_y = lasso_reg.predict(val_x)\n",
    "sorted_indices = np.argsort(lasso_reg_predict_y)[::-1]\n",
    "correct_indices = np.arange(len(val_y))\n",
    "\n",
    "print(f'{accuracy:.4f}')\n",
    "\n",
    "accuracy = np.sum(sorted_indices[:5] == correct_indices[:5]) / len(correct_indices[:5])\n",
    "lasso_predictions = lasso_reg_predict_y[sorted_indices]\n",
    "lasso_predictions = lasso_reg_predict_y[sorted_indices]\n",
    "print(\"My Lasso Regression Predictions: \")\n",
    "for i in range(len(validation_data)):\n",
    "    print(f\"{i+1}. {validation_data.iloc[sorted_indices[i]].player}: {lasso_predictions[i]}\")"
   ]
  },
  {
   "cell_type": "code",
   "execution_count": 44,
   "metadata": {
    "scrolled": true
   },
   "outputs": [
    {
     "name": "stdout",
     "output_type": "stream",
     "text": [
      "0.6000\n",
      "My Elastic Net Predictions: \n",
      "1. Luka Dončić: 0.8806623204284968\n",
      "2. Trae Young: 0.7050437516908186\n",
      "3. Deandre Ayton: 0.33493963854991865\n",
      "4. Marvin Bagley: -0.03461823476288721\n",
      "5. Jaren Jackson: -0.15181705692100078\n",
      "6. Collin Sexton: -0.20593610916628743\n",
      "7. Shai Gilgeous-Alexander: -0.2521451553902113\n",
      "8. Mitchell Robinson: -0.37367821336942303\n",
      "9. Josh Okogie: -0.8442674668727737\n"
     ]
    }
   ],
   "source": [
    "from sklearn.linear_model import ElasticNet\n",
    "elastic_net = ElasticNet(alpha=0.1, l1_ratio=0.5)\n",
    "elastic_net.fit(shuffle_x,shuffle_y)\n",
    "elastic_net_predict_y = elastic_net.predict(val_x)\n",
    "sorted_indices = np.argsort(elastic_net_predict_y)[::-1]\n",
    "correct_indices = np.arange(len(val_y))\n",
    "\n",
    "print(f'{accuracy:.4f}')\n",
    "\n",
    "accuracy = np.sum(sorted_indices[:5] == correct_indices[:5]) / len(correct_indices[:5])\n",
    "elastic_net_predictions = elastic_net_predict_y[sorted_indices]\n",
    "elastic_net_predictions = elastic_net_predict_y[sorted_indices]\n",
    "print(\"My Elastic Net Predictions: \")\n",
    "for i in range(len(validation_data)):\n",
    "    print(f\"{i+1}. {validation_data.iloc[sorted_indices[i]].player}: {elastic_net_predictions[i]}\")"
   ]
  },
  {
   "cell_type": "code",
   "execution_count": 48,
   "metadata": {
    "collapsed": true
   },
   "outputs": [],
   "source": [
    "classifiers = [lr,sgd_reg,ridge_reg,lasso_reg,elastic_net]\n",
    "model_names = ['Linear_Regression', 'Gradient_Descent', 'Ridge_Regression', 'Lasso_Regression','Elastic_Net']\n",
    "\n",
    "for i in range(len(classifiers)):\n",
    "    joblib.dump(classifiers[i], f'{model_names[i]}.joblib')"
   ]
  }
 ],
 "metadata": {
  "kernelspec": {
   "display_name": "Python 3",
   "language": "python",
   "name": "python3"
  },
  "language_info": {
   "codemirror_mode": {
    "name": "ipython",
    "version": 3
   },
   "file_extension": ".py",
   "mimetype": "text/x-python",
   "name": "python",
   "nbconvert_exporter": "python",
   "pygments_lexer": "ipython3",
   "version": "3.6.3"
  }
 },
 "nbformat": 4,
 "nbformat_minor": 2
}
